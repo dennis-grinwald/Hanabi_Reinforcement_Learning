{
 "cells": [
  {
   "cell_type": "markdown",
   "metadata": {},
   "source": [
    "# Visualize trained ad hoc performances of the agents\n",
    "The purpose of this notebook is to evaluate the performances of different agent setups, as explained in the paper.\n",
    "For this, we first load all different agents and their according training weights, and let them play against each other in several different setups. The results are then furhter plotted inside heatmaps etc.(Please refer to the paper for a more detailed explanation)"
   ]
  },
  {
   "cell_type": "code",
   "execution_count": null,
   "metadata": {},
   "outputs": [],
   "source": [
    "import matplotlib\n",
    "import matplotlib.pyplot as plt\n",
    "import numpy as np\n",
    "import pandas as pd\n",
    "\n",
    "from training.tf_agents_lib.pyhanabi_env_wrapper import PyhanabiEnvWrapper\n",
    "from rainbow_adhoc_player import RainbowAdHocRLPlayer\n",
    "from tf_agent_adhoc_player_ppo import PPOTfAgentAdHocPlayer\n",
    "from tf_agent_adhoc_player_reinforce import ReinforceTfAgentAdHocPlayer\n",
    "from simulate_adhoc_game import AdHocExperiment"
   ]
  },
  {
   "cell_type": "code",
   "execution_count": null,
   "metadata": {
    "scrolled": true
   },
   "outputs": [],
   "source": [
    "# weight locations\n",
    "ppo_rootdir = \"../agents/trained_models/ppo/\"\n",
    "reinforce_rootdir = \"../agents/trained_models/reinforce/train/policy/\"\n",
    "\n",
    "# AdHoc experiment\n",
    "num_players = 4\n",
    "game_type = \"Hanabi-Full\"\n",
    "observation_size = 1041\n",
    "max_moves = 38\n",
    "\n",
    "num_episodes = 100\n",
    "\n",
    "rainbow_player_custom_r = RainbowAdHocRLPlayer(observation_size, num_players, max_moves, \"custom_r1\",layers=1)\n",
    "rainbow_player_standard_1 = RainbowAdHocRLPlayer(observation_size, num_players, max_moves, \"10k\",layers=1)\n",
    "rainbow_player_standard_2 = RainbowAdHocRLPlayer(observation_size, num_players, max_moves, \"20k\",layers=1)\n",
    "rainbow_player_rule_teacher_1 = RainbowAdHocRLPlayer(observation_size, num_players, max_moves, \"team1_adhoc\",layers=2)\n",
    "rainbow_player_rule_teacher_2 = RainbowAdHocRLPlayer(observation_size, num_players, max_moves, \"team2_adhoc\",layers=2)\n",
    "rainbow_player_rule_teacher_3 = RainbowAdHocRLPlayer(observation_size, num_players, max_moves, \"team3_adhoc\",layers=1)\n",
    "\n",
    "ppo_agent = PPOTfAgentAdHocPlayer(ppo_rootdir, game_type, num_players)\n",
    "reinforce_agent = ReinforceTfAgentAdHocPlayer(reinforce_rootdir, game_type, num_players)\n",
    "\n",
    "agents = [rainbow_player_standard_1, \n",
    "          rainbow_player_standard_2, \n",
    "          rainbow_player_custom_r,\n",
    "          rainbow_player_rule_teacher_1,\n",
    "          rainbow_player_rule_teacher_2,\n",
    "          rainbow_player_rule_teacher_3,\n",
    "          ppo_agent, \n",
    "          reinforce_agent]\n",
    "\n",
    "\n",
    "agent_names = [\n",
    "                 \"Rainbow_standard_1\", \"Rainbow_standard_2\", \n",
    "                 \"Rainbow_standard_custom_R\", \"Rainbow_rule_teacher_1\", \n",
    "                 \"Rainbow_rule_teacher_2\", \"Rainbow_rule_teacher_3\",\n",
    "                 \"PPO\", \"Reinforce\"\n",
    "              ]"
   ]
  },
  {
   "cell_type": "code",
   "execution_count": null,
   "metadata": {},
   "outputs": [],
   "source": [
    "df_avg = pd.DataFrame(columns=[\"1_vs_3\"]+agent_names)\n",
    "df_max = pd.DataFrame(columns=[\"1_vs_3\"]+agent_names)"
   ]
  },
  {
   "cell_type": "code",
   "execution_count": null,
   "metadata": {},
   "outputs": [],
   "source": [
    "df_avg[\"1_vs_3\"] = agent_names\n",
    "df_max[\"1_vs_3\"] = agent_names"
   ]
  },
  {
   "cell_type": "code",
   "execution_count": null,
   "metadata": {},
   "outputs": [],
   "source": [
    "arr_prob_dists = np.zeros((len(agent_names),num_episodes))"
   ]
  },
  {
   "cell_type": "code",
   "execution_count": null,
   "metadata": {
    "scrolled": true
   },
   "outputs": [],
   "source": [
    "for i, agent_class in enumerate(agents):\n",
    "    for j, test_agent in enumerate(agents):\n",
    "        players = [agent_class for _ in range(num_players-1)] + [test_agent]\n",
    "        tmp_game = AdHocExperiment(game_type, players)\n",
    "        tmp_result_list, tmp_avg = tmp_game.run_experiment(num_episodes)\n",
    "        df_avg.iloc[j][i+1] = tmp_avg\n",
    "        df_max.iloc[j][i+1] = max(tmp_result_list)       \n",
    "        if i == j:\n",
    "            arr_prob_dists[i] = tmp_result_list"
   ]
  },
  {
   "cell_type": "code",
   "execution_count": null,
   "metadata": {},
   "outputs": [],
   "source": [
    "max_val_array = df_max.values[:,1:].astype('float32')\n",
    "avg_val_array = df_avg.values[:,1:].astype('float32')"
   ]
  },
  {
   "cell_type": "code",
   "execution_count": null,
   "metadata": {},
   "outputs": [],
   "source": [
    "def heatmap(data, row_labels, col_labels, ax=None,\n",
    "            cbar_kw={}, cbarlabel=\"\", **kwargs):\n",
    "    \"\"\"\n",
    "    Create a heatmap from a numpy array and two lists of labels.\n",
    "\n",
    "    Parameters\n",
    "    ----------\n",
    "    data\n",
    "        A 2D numpy array of shape (N, M).\n",
    "    row_labels\n",
    "        A list or array of length N with the labels for the rows.\n",
    "    col_labels\n",
    "        A list or array of length M with the labels for the columns.\n",
    "    ax\n",
    "        A `matplotlib.axes.Axes` instance to which the heatmap is plotted.  If\n",
    "        not provided, use current axes or create a new one.  Optional.\n",
    "    cbar_kw\n",
    "        A dictionary with arguments to `matplotlib.Figure.colorbar`.  Optional.\n",
    "    cbarlabel\n",
    "        The label for the colorbar.  Optional.\n",
    "    **kwargs\n",
    "        All other arguments are forwarded to `imshow`.\n",
    "    \"\"\"\n",
    "\n",
    "    if not ax:\n",
    "        ax = plt.gca()\n",
    "\n",
    "    # Plot the heatmap\n",
    "    im = ax.imshow(data, **kwargs)\n",
    "\n",
    "    # Create colorbar\n",
    "    cbar = ax.figure.colorbar(im, ax=ax, **cbar_kw)\n",
    "    cbar.ax.set_ylabel(cbarlabel, rotation=-90, va=\"bottom\")\n",
    "\n",
    "    # We want to show all ticks...\n",
    "    ax.set_xticks(np.arange(data.shape[1]))\n",
    "    ax.set_yticks(np.arange(data.shape[0]))\n",
    "    # ... and label them with the respective list entries.\n",
    "    ax.set_xticklabels(col_labels)\n",
    "    ax.set_yticklabels(row_labels)\n",
    "\n",
    "    # Let the horizontal axes labeling appear on top.\n",
    "    ax.tick_params(top=True, bottom=False,\n",
    "                   labeltop=True, labelbottom=False)\n",
    "\n",
    "    # Rotate the tick labels and set their alignment.\n",
    "    plt.setp(ax.get_xticklabels(), rotation=-30, ha=\"right\",\n",
    "             rotation_mode=\"anchor\")\n",
    "\n",
    "    # Turn spines off and create white grid.\n",
    "    for edge, spine in ax.spines.items():\n",
    "        spine.set_visible(False)\n",
    "\n",
    "    ax.set_xticks(np.arange(data.shape[1]+1)-.5, minor=True)\n",
    "    ax.set_yticks(np.arange(data.shape[0]+1)-.5, minor=True)\n",
    "    ax.grid(which=\"minor\", color=\"w\", linestyle='-', linewidth=3)\n",
    "    ax.tick_params(which=\"minor\", bottom=False, left=False)\n",
    "\n",
    "    return im, cbar\n",
    "\n",
    "\n",
    "def annotate_heatmap(im, data=None, valfmt=\"{x:.2f}\",\n",
    "                     textcolors=[\"black\", \"white\"],\n",
    "                     threshold=None, **textkw):\n",
    "    \"\"\"\n",
    "    A function to annotate a heatmap.\n",
    "\n",
    "    Parameters\n",
    "    ----------\n",
    "    im\n",
    "        The AxesImage to be labeled.\n",
    "    data\n",
    "        Data used to annotate.  If None, the image's data is used.  Optional.\n",
    "    valfmt\n",
    "        The format of the annotations inside the heatmap.  This should either\n",
    "        use the string format method, e.g. \"$ {x:.2f}\", or be a\n",
    "        `matplotlib.ticker.Formatter`.  Optional.\n",
    "    textcolors\n",
    "        A list or array of two color specifications.  The first is used for\n",
    "        values below a threshold, the second for those above.  Optional.\n",
    "    threshold\n",
    "        Value in data units according to which the colors from textcolors are\n",
    "        applied.  If None (the default) uses the middle of the colormap as\n",
    "        separation.  Optional.\n",
    "    **kwargs\n",
    "        All other arguments are forwarded to each call to `text` used to create\n",
    "        the text labels.\n",
    "    \"\"\"\n",
    "\n",
    "    if not isinstance(data, (list, np.ndarray)):\n",
    "        data = im.get_array()\n",
    "\n",
    "    # Normalize the threshold to the images color range.\n",
    "    if threshold is not None:\n",
    "        threshold = im.norm(threshold)\n",
    "    else:\n",
    "        threshold = im.norm(data.max())/2.\n",
    "\n",
    "    # Set default alignment to center, but allow it to be\n",
    "    # overwritten by textkw.\n",
    "    kw = dict(horizontalalignment=\"center\",\n",
    "              verticalalignment=\"center\")\n",
    "    kw.update(textkw)\n",
    "\n",
    "    # Get the formatter in case a string is supplied\n",
    "    if isinstance(valfmt, str):\n",
    "        valfmt = matplotlib.ticker.StrMethodFormatter(valfmt)\n",
    "\n",
    "    # Loop over the data and create a `Text` for each \"pixel\".\n",
    "    # Change the text's color depending on the data.\n",
    "    texts = []\n",
    "    for i in range(data.shape[0]):\n",
    "        for j in range(data.shape[1]):\n",
    "            kw.update(color=textcolors[int(im.norm(data[i, j]) > threshold)])\n",
    "            text = im.axes.text(j, i, valfmt(data[i, j], None), **kw)\n",
    "            texts.append(text)\n",
    "\n",
    "    return texts"
   ]
  },
  {
   "cell_type": "code",
   "execution_count": null,
   "metadata": {},
   "outputs": [],
   "source": [
    "agent_ids = [\"Agent-1\",\"Agent-2\",\"Agent-3\",\"Agent-4\",\"Agent-5\",\"Agent-6\",\"Agent-7\",\"Agent-8\"]\n",
    "team_ids = [\"Team-1\",\"Team-2\",\"Team-3\",\"Team-4\",\"Team-5\",\"Team-6\",\"Team-7\",\"Team-8\"]"
   ]
  },
  {
   "cell_type": "code",
   "execution_count": null,
   "metadata": {},
   "outputs": [],
   "source": [
    "fig, ax = plt.subplots()\n",
    "\n",
    "im, cbar = heatmap(avg_val_array, agent_ids, team_ids, ax=ax, cbarlabel=\"average score\")\n",
    "texts = annotate_heatmap(im, valfmt=\"{x:.1f}\")\n",
    "\n",
    "# Results are saved\n",
    "fig.tight_layout()\n",
    "plt.savefig(\"adhoc_avg_score.png\")\n",
    "plt.show()"
   ]
  },
  {
   "cell_type": "code",
   "execution_count": null,
   "metadata": {},
   "outputs": [],
   "source": [
    "fig, ax = plt.subplots()\n",
    "\n",
    "im, cbar = heatmap(max_val_array, agent_ids, team_ids, ax=ax, cbarlabel=\"max. score\")\n",
    "texts = annotate_heatmap(im, valfmt=\"{x:.1f}\")\n",
    "\n",
    "# Results are saved\n",
    "fig.tight_layout()\n",
    "plt.savefig(\"adhoc_max_score.png\")\n",
    "plt.show()"
   ]
  },
  {
   "cell_type": "code",
   "execution_count": null,
   "metadata": {},
   "outputs": [],
   "source": [
    "font = {'family' : 'normal',\n",
    "        'weight' : 'normal',\n",
    "        'size'   : 28}\n",
    "\n",
    "matplotlib.rc('font', **font)"
   ]
  },
  {
   "cell_type": "code",
   "execution_count": null,
   "metadata": {},
   "outputs": [],
   "source": [
    "\n",
    "fig, (ax1,ax2,ax3,ax4,ax5,ax6,ax7,ax8) = plt.subplots(1,8,figsize=(80,10))\n",
    "\n",
    "ax1.hist(arr_prob_dists[0],density=True,bins=int(max(arr_prob_dists[0])))\n",
    "ax1.set_title(\"Agent-1\")\n",
    "ax2.hist(arr_prob_dists[1],density=True,bins=int(max(arr_prob_dists[1])))\n",
    "ax2.set_title(\"Agent-2\")\n",
    "ax3.hist(arr_prob_dists[2],density=True,bins=int(max(arr_prob_dists[2])))\n",
    "ax3.set_title(\"Agent-3\")\n",
    "ax4.hist(arr_prob_dists[3],density=True,bins=int(max(arr_prob_dists[3])))\n",
    "ax4.set_title(\"Agent-4\")\n",
    "ax5.hist(arr_prob_dists[4],density=True,bins=int(max(arr_prob_dists[4])))\n",
    "ax5.set_title(\"Agent-5\")\n",
    "ax6.hist(arr_prob_dists[5],density=True,bins=int(max(arr_prob_dists[5])))\n",
    "ax6.set_title(\"Agent-6\")\n",
    "ax7.hist(arr_prob_dists[6],density=True,bins=int(max(arr_prob_dists[6])))\n",
    "ax7.set_title(\"Agent-7\")\n",
    "ax8.hist(arr_prob_dists[7],density=True,bins=int(max(arr_prob_dists[7])))\n",
    "ax8.set_title(\"Agent-8\")\n",
    "plt.savefig(\"probabilities.png\")"
   ]
  }
 ],
 "metadata": {
  "kernelspec": {
   "display_name": "Python 3",
   "language": "python",
   "name": "python3"
  },
  "language_info": {
   "codemirror_mode": {
    "name": "ipython",
    "version": 3
   },
   "file_extension": ".py",
   "mimetype": "text/x-python",
   "name": "python",
   "nbconvert_exporter": "python",
   "pygments_lexer": "ipython3",
   "version": "3.6.7"
  }
 },
 "nbformat": 4,
 "nbformat_minor": 2
}
